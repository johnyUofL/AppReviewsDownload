{
 "cells": [
  {
   "cell_type": "code",
   "execution_count": 9,
   "id": "fbd65d91-7a56-4166-8c59-e9fbb6893718",
   "metadata": {},
   "outputs": [
    {
     "name": "stdout",
     "output_type": "stream",
     "text": [
      "Requirement already satisfied: google-play-scraper in c:\\users\\johny\\anaconda3\\lib\\site-packages (1.2.7)\n",
      "Requirement already satisfied: pandas in c:\\users\\johny\\anaconda3\\lib\\site-packages (2.2.2)\n",
      "Requirement already satisfied: openpyxl in c:\\users\\johny\\anaconda3\\lib\\site-packages (3.1.5)\n",
      "Requirement already satisfied: numpy>=1.26.0 in c:\\users\\johny\\anaconda3\\lib\\site-packages (from pandas) (1.26.4)\n",
      "Requirement already satisfied: python-dateutil>=2.8.2 in c:\\users\\johny\\anaconda3\\lib\\site-packages (from pandas) (2.9.0.post0)\n",
      "Requirement already satisfied: pytz>=2020.1 in c:\\users\\johny\\anaconda3\\lib\\site-packages (from pandas) (2024.1)\n",
      "Requirement already satisfied: tzdata>=2022.7 in c:\\users\\johny\\anaconda3\\lib\\site-packages (from pandas) (2023.3)\n",
      "Requirement already satisfied: et-xmlfile in c:\\users\\johny\\anaconda3\\lib\\site-packages (from openpyxl) (1.1.0)\n",
      "Requirement already satisfied: six>=1.5 in c:\\users\\johny\\anaconda3\\lib\\site-packages (from python-dateutil>=2.8.2->pandas) (1.16.0)\n",
      "Note: you may need to restart the kernel to use updated packages.\n"
     ]
    }
   ],
   "source": [
    "pip install google-play-scraper pandas openpyxl\n"
   ]
  },
  {
   "cell_type": "code",
   "execution_count": 27,
   "id": "028e9e0a-e535-4fa8-8518-13d762a66e2a",
   "metadata": {},
   "outputs": [
    {
     "name": "stdout",
     "output_type": "stream",
     "text": [
      "Collecting textblob\n",
      "  Downloading textblob-0.18.0.post0-py3-none-any.whl.metadata (4.5 kB)\n",
      "Requirement already satisfied: nltk>=3.8 in c:\\users\\johny\\anaconda3\\lib\\site-packages (from textblob) (3.9.1)\n",
      "Requirement already satisfied: click in c:\\users\\johny\\anaconda3\\lib\\site-packages (from nltk>=3.8->textblob) (8.1.7)\n",
      "Requirement already satisfied: joblib in c:\\users\\johny\\anaconda3\\lib\\site-packages (from nltk>=3.8->textblob) (1.4.2)\n",
      "Requirement already satisfied: regex>=2021.8.3 in c:\\users\\johny\\anaconda3\\lib\\site-packages (from nltk>=3.8->textblob) (2024.9.11)\n",
      "Requirement already satisfied: tqdm in c:\\users\\johny\\anaconda3\\lib\\site-packages (from nltk>=3.8->textblob) (4.66.5)\n",
      "Requirement already satisfied: colorama in c:\\users\\johny\\anaconda3\\lib\\site-packages (from click->nltk>=3.8->textblob) (0.4.6)\n",
      "Downloading textblob-0.18.0.post0-py3-none-any.whl (626 kB)\n",
      "   ---------------------------------------- 0.0/626.3 kB ? eta -:--:--\n",
      "   ---------------------------------------- 0.0/626.3 kB ? eta -:--:--\n",
      "   ---------------------------------------- 0.0/626.3 kB ? eta -:--:--\n",
      "   ---------------------------------------- 0.0/626.3 kB ? eta -:--:--\n",
      "   ---------------- ----------------------- 262.1/626.3 kB ? eta -:--:--\n",
      "   ------------------------------- ------ 524.3/626.3 kB 882.6 kB/s eta 0:00:01\n",
      "   -------------------------------------- 626.3/626.3 kB 933.8 kB/s eta 0:00:00\n",
      "Installing collected packages: textblob\n",
      "Successfully installed textblob-0.18.0.post0\n"
     ]
    }
   ],
   "source": [
    "!pip install textblob\n"
   ]
  },
  {
   "cell_type": "code",
   "execution_count": 29,
   "id": "1a4ddb54-b61a-4bdf-a6b5-54148815bc07",
   "metadata": {},
   "outputs": [
    {
     "name": "stdout",
     "output_type": "stream",
     "text": [
      "Fetched 1000 reviews so far...\n",
      "Fetched 2000 reviews so far...\n",
      "Fetched 3000 reviews so far...\n",
      "Fetched 4000 reviews so far...\n",
      "Fetched 5000 reviews so far...\n",
      "Fetched 6000 reviews so far...\n",
      "Fetched 7000 reviews so far...\n",
      "Fetched 8000 reviews so far...\n",
      "Fetched 9000 reviews so far...\n",
      "Fetched 10000 reviews so far...\n",
      "Fetched 11000 reviews so far...\n",
      "Fetched 12000 reviews so far...\n",
      "Fetched 13000 reviews so far...\n",
      "Fetched 14000 reviews so far...\n",
      "Fetched 15000 reviews so far...\n",
      "Fetched 16000 reviews so far...\n",
      "Fetched 17000 reviews so far...\n",
      "Fetched 18000 reviews so far...\n",
      "Fetched 19000 reviews so far...\n",
      "Fetched 20000 reviews so far...\n",
      "Fetched 21000 reviews so far...\n",
      "Fetched 22000 reviews so far...\n",
      "Fetched 23000 reviews so far...\n",
      "Fetched 24000 reviews so far...\n",
      "Fetched 25000 reviews so far...\n",
      "Fetched 26000 reviews so far...\n",
      "Fetched 27000 reviews so far...\n",
      "Fetched 28000 reviews so far...\n",
      "Fetched 29000 reviews so far...\n",
      "Fetched 30000 reviews so far...\n",
      "Fetched 31000 reviews so far...\n",
      "Fetched 32000 reviews so far...\n",
      "Fetched 33000 reviews so far...\n",
      "Fetched 34000 reviews so far...\n",
      "Fetched 35000 reviews so far...\n",
      "Fetched 36000 reviews so far...\n",
      "Fetched 37000 reviews so far...\n",
      "Fetched 38000 reviews so far...\n",
      "Fetched 39000 reviews so far...\n",
      "Fetched 40000 reviews so far...\n",
      "Reviews saved to google_tasks_reviews.xlsx\n"
     ]
    }
   ],
   "source": [
    "from google_play_scraper import reviews, Sort\n",
    "import pandas as pd\n",
    "import time\n",
    "\n",
    "# Define the app package name and parameters\n",
    "app_package = 'com.google.android.apps.tasks'\n",
    "lang = 'en'\n",
    "country = 'us'\n",
    "batch_size = 1000\n",
    "total_reviews_to_fetch = 40000  # Number of reviews to fetch\n",
    "reviews_collected = []\n",
    "\n",
    "# Fetch reviews in batches\n",
    "for start in range(0, total_reviews_to_fetch, batch_size):\n",
    "    try:\n",
    "        batch_reviews, _ = reviews(\n",
    "            app_package,\n",
    "            lang=lang,\n",
    "            country=country,\n",
    "            sort=Sort.NEWEST,\n",
    "            count=batch_size,\n",
    "        )\n",
    "        reviews_collected.extend(batch_reviews)\n",
    "        print(f\"Fetched {len(reviews_collected)} reviews so far...\")\n",
    "        time.sleep(1)  # To avoid being blocked\n",
    "    except Exception as e:\n",
    "        print(f\"Error fetching reviews: {e}\")\n",
    "        break\n",
    "\n",
    "# Convert to DataFrame\n",
    "reviews_df = pd.DataFrame(reviews_collected)\n",
    "\n",
    "# Save to Excel\n",
    "excel_file_path = 'google_tasks_reviews.xlsx'\n",
    "reviews_df.to_excel(excel_file_path, index=False)\n",
    "print(f\"Reviews saved to {excel_file_path}\")\n"
   ]
  },
  {
   "cell_type": "code",
   "execution_count": 21,
   "id": "dc78c33d-07df-4824-8590-ef8adaa322e7",
   "metadata": {},
   "outputs": [
    {
     "name": "stdout",
     "output_type": "stream",
     "text": [
      "Feature requests saved to 'google_tasks_feature_requests.xlsx'\n"
     ]
    }
   ],
   "source": [
    "# Filter reviews that mention feature requests\n",
    "feature_keywords = ['add', 'need', 'feature', 'implement', 'wish']\n",
    "feature_requests = reviews_df[reviews_df['content'].str.contains('|'.join(feature_keywords), case=False, na=False)]\n",
    "\n",
    "# Save filtered reviews to a separate Excel file\n",
    "feature_requests.to_excel('google_tasks_feature_requests.xlsx', index=False, engine='openpyxl')\n",
    "\n",
    "print(\"Feature requests saved to 'google_tasks_feature_requests.xlsx'\")\n"
   ]
  },
  {
   "cell_type": "code",
   "execution_count": 23,
   "id": "68f6358e-9683-4e9b-b7ca-ea3bda016bbf",
   "metadata": {},
   "outputs": [
    {
     "name": "stdout",
     "output_type": "stream",
     "text": [
      "Reviews saved to 'google_tasks_reviews.xlsx'\n"
     ]
    }
   ],
   "source": [
    "# Save to Excel\n",
    "reviews_df.to_excel('google_tasks_reviews.xlsx', index=False, engine='openpyxl')\n",
    "\n",
    "print(\"Reviews saved to 'google_tasks_reviews.xlsx'\")\n"
   ]
  },
  {
   "cell_type": "code",
   "execution_count": null,
   "id": "11f30de4-d9c4-4d12-8b73-3182be790831",
   "metadata": {},
   "outputs": [],
   "source": []
  }
 ],
 "metadata": {
  "kernelspec": {
   "display_name": "Python 3 (ipykernel)",
   "language": "python",
   "name": "python3"
  },
  "language_info": {
   "codemirror_mode": {
    "name": "ipython",
    "version": 3
   },
   "file_extension": ".py",
   "mimetype": "text/x-python",
   "name": "python",
   "nbconvert_exporter": "python",
   "pygments_lexer": "ipython3",
   "version": "3.12.7"
  }
 },
 "nbformat": 4,
 "nbformat_minor": 5
}
